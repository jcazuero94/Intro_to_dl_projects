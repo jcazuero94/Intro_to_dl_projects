{
 "cells": [
  {
   "cell_type": "markdown",
   "metadata": {},
   "source": [
    "# Cancer detection"
   ]
  },
  {
   "cell_type": "code",
   "execution_count": null,
   "metadata": {},
   "outputs": [],
   "source": []
  },
  {
   "cell_type": "code",
   "execution_count": 17,
   "metadata": {},
   "outputs": [
    {
     "data": {
      "application/javascript": "\n            setTimeout(function() {\n                var nbb_cell_id = 17;\n                var nbb_unformatted_code = \"import numpy as np \\nimport pandas as pd \\nimport os\\nimport tensorflow as tf\\nfrom tensorflow import keras\\nfrom tensorflow.keras.callbacks import EarlyStopping\\nfrom tensorflow.keras.applications.xception import preprocess_input\\nfrom tensorflow.keras.utils import image_dataset_from_directory\\nfrom PIL import Image\\nfrom sklearn.metrics import (\\n    roc_auc_score,\\n    RocCurveDisplay,\\n    roc_curve,\\n    ConfusionMatrixDisplay\\n)\";\n                var nbb_formatted_code = \"import numpy as np\\nimport pandas as pd\\nimport os\\nimport tensorflow as tf\\nfrom tensorflow import keras\\nfrom tensorflow.keras.callbacks import EarlyStopping\\nfrom tensorflow.keras.applications.xception import preprocess_input\\nfrom tensorflow.keras.utils import image_dataset_from_directory\\nfrom PIL import Image\\nfrom sklearn.metrics import (\\n    roc_auc_score,\\n    RocCurveDisplay,\\n    roc_curve,\\n    ConfusionMatrixDisplay,\\n)\";\n                var nbb_cells = Jupyter.notebook.get_cells();\n                for (var i = 0; i < nbb_cells.length; ++i) {\n                    if (nbb_cells[i].input_prompt_number == nbb_cell_id) {\n                        if (nbb_cells[i].get_text() == nbb_unformatted_code) {\n                             nbb_cells[i].set_text(nbb_formatted_code);\n                        }\n                        break;\n                    }\n                }\n            }, 500);\n            ",
      "text/plain": [
       "<IPython.core.display.Javascript object>"
      ]
     },
     "metadata": {},
     "output_type": "display_data"
    }
   ],
   "source": [
    "import numpy as np \n",
    "import pandas as pd \n",
    "import os\n",
    "import tensorflow as tf\n",
    "from tensorflow import keras\n",
    "from tensorflow.keras.callbacks import EarlyStopping\n",
    "from tensorflow.keras.applications.xception import preprocess_input\n",
    "from tensorflow.keras.utils import image_dataset_from_directory\n",
    "from PIL import Image\n",
    "from sklearn.metrics import (\n",
    "    roc_auc_score,\n",
    "    RocCurveDisplay,\n",
    "    roc_curve,\n",
    "    ConfusionMatrixDisplay\n",
    ")"
   ]
  },
  {
   "cell_type": "code",
   "execution_count": 18,
   "metadata": {},
   "outputs": [
    {
     "name": "stdout",
     "output_type": "stream",
     "text": [
      "The nb_black extension is already loaded. To reload it, use:\n",
      "  %reload_ext nb_black\n"
     ]
    },
    {
     "data": {
      "application/javascript": "\n            setTimeout(function() {\n                var nbb_cell_id = 18;\n                var nbb_unformatted_code = \"%load_ext nb_black\";\n                var nbb_formatted_code = \"%load_ext nb_black\";\n                var nbb_cells = Jupyter.notebook.get_cells();\n                for (var i = 0; i < nbb_cells.length; ++i) {\n                    if (nbb_cells[i].input_prompt_number == nbb_cell_id) {\n                        if (nbb_cells[i].get_text() == nbb_unformatted_code) {\n                             nbb_cells[i].set_text(nbb_formatted_code);\n                        }\n                        break;\n                    }\n                }\n            }, 500);\n            ",
      "text/plain": [
       "<IPython.core.display.Javascript object>"
      ]
     },
     "metadata": {},
     "output_type": "display_data"
    }
   ],
   "source": [
    "%load_ext nb_black"
   ]
  },
  {
   "cell_type": "code",
   "execution_count": 19,
   "metadata": {},
   "outputs": [
    {
     "data": {
      "application/javascript": "\n            setTimeout(function() {\n                var nbb_cell_id = 19;\n                var nbb_unformatted_code = \"sample_submission = pd.read_csv('../data/sample_submission.csv')\\ntrain_labels = pd.read_csv('../data/train_labels.csv')\\ntest_dir = '../data/test/'\\ntrain_dir = '../data/train/'\\ntrain_jpeg_dir = '../data/train_jpeg/'\\ntest_jpeg_dir = '../data/test_jpeg/'\";\n                var nbb_formatted_code = \"sample_submission = pd.read_csv(\\\"../data/sample_submission.csv\\\")\\ntrain_labels = pd.read_csv(\\\"../data/train_labels.csv\\\")\\ntest_dir = \\\"../data/test/\\\"\\ntrain_dir = \\\"../data/train/\\\"\\ntrain_jpeg_dir = \\\"../data/train_jpeg/\\\"\\ntest_jpeg_dir = \\\"../data/test_jpeg/\\\"\";\n                var nbb_cells = Jupyter.notebook.get_cells();\n                for (var i = 0; i < nbb_cells.length; ++i) {\n                    if (nbb_cells[i].input_prompt_number == nbb_cell_id) {\n                        if (nbb_cells[i].get_text() == nbb_unformatted_code) {\n                             nbb_cells[i].set_text(nbb_formatted_code);\n                        }\n                        break;\n                    }\n                }\n            }, 500);\n            ",
      "text/plain": [
       "<IPython.core.display.Javascript object>"
      ]
     },
     "metadata": {},
     "output_type": "display_data"
    }
   ],
   "source": [
    "sample_submission = pd.read_csv('../data/sample_submission.csv')\n",
    "train_labels = pd.read_csv('../data/train_labels.csv')\n",
    "test_dir = '../data/test/'\n",
    "train_dir = '../data/train/'\n",
    "train_jpeg_dir = '../data/train_jpeg/'\n",
    "test_jpeg_dir = '../data/test_jpeg/'\n"
   ]
  },
  {
   "cell_type": "code",
   "execution_count": 20,
   "metadata": {},
   "outputs": [
    {
     "data": {
      "text/plain": [
       "<tensorflow.python.eager.context._EagerDeviceContext at 0x2cf15f340>"
      ]
     },
     "execution_count": 20,
     "metadata": {},
     "output_type": "execute_result"
    },
    {
     "data": {
      "application/javascript": "\n            setTimeout(function() {\n                var nbb_cell_id = 20;\n                var nbb_unformatted_code = \"tf.device(\\\"/gpu:0\\\")\";\n                var nbb_formatted_code = \"tf.device(\\\"/gpu:0\\\")\";\n                var nbb_cells = Jupyter.notebook.get_cells();\n                for (var i = 0; i < nbb_cells.length; ++i) {\n                    if (nbb_cells[i].input_prompt_number == nbb_cell_id) {\n                        if (nbb_cells[i].get_text() == nbb_unformatted_code) {\n                             nbb_cells[i].set_text(nbb_formatted_code);\n                        }\n                        break;\n                    }\n                }\n            }, 500);\n            ",
      "text/plain": [
       "<IPython.core.display.Javascript object>"
      ]
     },
     "metadata": {},
     "output_type": "display_data"
    }
   ],
   "source": [
    "tf.device(\"/gpu:0\")"
   ]
  },
  {
   "cell_type": "code",
   "execution_count": 21,
   "metadata": {},
   "outputs": [
    {
     "data": {
      "application/javascript": "\n            setTimeout(function() {\n                var nbb_cell_id = 21;\n                var nbb_unformatted_code = \"# for file in os.listdir(train_dir):\\n#     file_pref = file[:-4]\\n#     outfile = file[:-3] + \\\"jpeg\\\"\\n#     im = Image.open(train_dir + file)\\n#     out = im.convert(\\\"RGB\\\")\\n#     out.save(train_jpeg_dir + str(train_labels.set_index('id').loc[file_pref,'label']) + '/' + outfile, \\\"JPEG\\\") \";\n                var nbb_formatted_code = \"# for file in os.listdir(train_dir):\\n#     file_pref = file[:-4]\\n#     outfile = file[:-3] + \\\"jpeg\\\"\\n#     im = Image.open(train_dir + file)\\n#     out = im.convert(\\\"RGB\\\")\\n#     out.save(train_jpeg_dir + str(train_labels.set_index('id').loc[file_pref,'label']) + '/' + outfile, \\\"JPEG\\\")\";\n                var nbb_cells = Jupyter.notebook.get_cells();\n                for (var i = 0; i < nbb_cells.length; ++i) {\n                    if (nbb_cells[i].input_prompt_number == nbb_cell_id) {\n                        if (nbb_cells[i].get_text() == nbb_unformatted_code) {\n                             nbb_cells[i].set_text(nbb_formatted_code);\n                        }\n                        break;\n                    }\n                }\n            }, 500);\n            ",
      "text/plain": [
       "<IPython.core.display.Javascript object>"
      ]
     },
     "metadata": {},
     "output_type": "display_data"
    }
   ],
   "source": [
    "# for file in os.listdir(train_dir):\n",
    "#     file_pref = file[:-4]\n",
    "#     outfile = file[:-3] + \"jpeg\"\n",
    "#     im = Image.open(train_dir + file)\n",
    "#     out = im.convert(\"RGB\")\n",
    "#     out.save(train_jpeg_dir + str(train_labels.set_index('id').loc[file_pref,'label']) + '/' + outfile, \"JPEG\") "
   ]
  },
  {
   "cell_type": "code",
   "execution_count": 22,
   "metadata": {},
   "outputs": [
    {
     "data": {
      "application/javascript": "\n            setTimeout(function() {\n                var nbb_cell_id = 22;\n                var nbb_unformatted_code = \"# for file in os.listdir(test_dir):\\n#     file_pref = file[:-4]\\n#     outfile = file[:-3] + \\\"jpeg\\\"\\n#     im = Image.open(test_dir + file)\\n#     out = im.convert(\\\"RGB\\\")\\n#     out.save(test_jpeg_dir + outfile, \\\"JPEG\\\") \";\n                var nbb_formatted_code = \"# for file in os.listdir(test_dir):\\n#     file_pref = file[:-4]\\n#     outfile = file[:-3] + \\\"jpeg\\\"\\n#     im = Image.open(test_dir + file)\\n#     out = im.convert(\\\"RGB\\\")\\n#     out.save(test_jpeg_dir + outfile, \\\"JPEG\\\")\";\n                var nbb_cells = Jupyter.notebook.get_cells();\n                for (var i = 0; i < nbb_cells.length; ++i) {\n                    if (nbb_cells[i].input_prompt_number == nbb_cell_id) {\n                        if (nbb_cells[i].get_text() == nbb_unformatted_code) {\n                             nbb_cells[i].set_text(nbb_formatted_code);\n                        }\n                        break;\n                    }\n                }\n            }, 500);\n            ",
      "text/plain": [
       "<IPython.core.display.Javascript object>"
      ]
     },
     "metadata": {},
     "output_type": "display_data"
    }
   ],
   "source": [
    "# for file in os.listdir(test_dir):\n",
    "#     file_pref = file[:-4]\n",
    "#     outfile = file[:-3] + \"jpeg\"\n",
    "#     im = Image.open(test_dir + file)\n",
    "#     out = im.convert(\"RGB\")\n",
    "#     out.save(test_jpeg_dir + outfile, \"JPEG\") "
   ]
  },
  {
   "cell_type": "code",
   "execution_count": 23,
   "metadata": {},
   "outputs": [
    {
     "name": "stdout",
     "output_type": "stream",
     "text": [
      "Found 220025 files belonging to 2 classes.\n",
      "Using 176020 files for training.\n"
     ]
    },
    {
     "data": {
      "application/javascript": "\n            setTimeout(function() {\n                var nbb_cell_id = 23;\n                var nbb_unformatted_code = \"train_dataset = image_dataset_from_directory(\\n    train_jpeg_dir,\\n    validation_split=0.2,\\n    subset=\\\"training\\\",\\n    seed=42,\\n    batch_size=1000\\n)\";\n                var nbb_formatted_code = \"train_dataset = image_dataset_from_directory(\\n    train_jpeg_dir, validation_split=0.2, subset=\\\"training\\\", seed=42, batch_size=1000\\n)\";\n                var nbb_cells = Jupyter.notebook.get_cells();\n                for (var i = 0; i < nbb_cells.length; ++i) {\n                    if (nbb_cells[i].input_prompt_number == nbb_cell_id) {\n                        if (nbb_cells[i].get_text() == nbb_unformatted_code) {\n                             nbb_cells[i].set_text(nbb_formatted_code);\n                        }\n                        break;\n                    }\n                }\n            }, 500);\n            ",
      "text/plain": [
       "<IPython.core.display.Javascript object>"
      ]
     },
     "metadata": {},
     "output_type": "display_data"
    }
   ],
   "source": [
    "train_dataset = image_dataset_from_directory(\n",
    "    train_jpeg_dir,\n",
    "    validation_split=0.2,\n",
    "    subset=\"training\",\n",
    "    seed=42,\n",
    "    batch_size=1000\n",
    ")\n"
   ]
  },
  {
   "cell_type": "code",
   "execution_count": 24,
   "metadata": {},
   "outputs": [
    {
     "name": "stdout",
     "output_type": "stream",
     "text": [
      "Found 220025 files belonging to 2 classes.\n",
      "Using 44005 files for validation.\n"
     ]
    },
    {
     "data": {
      "application/javascript": "\n            setTimeout(function() {\n                var nbb_cell_id = 24;\n                var nbb_unformatted_code = \"validation_dataset = image_dataset_from_directory(\\n    train_jpeg_dir,\\n    validation_split=0.2,\\n    subset=\\\"validation\\\",\\n    seed=42,\\n    batch_size=1000,\\n)\";\n                var nbb_formatted_code = \"validation_dataset = image_dataset_from_directory(\\n    train_jpeg_dir,\\n    validation_split=0.2,\\n    subset=\\\"validation\\\",\\n    seed=42,\\n    batch_size=1000,\\n)\";\n                var nbb_cells = Jupyter.notebook.get_cells();\n                for (var i = 0; i < nbb_cells.length; ++i) {\n                    if (nbb_cells[i].input_prompt_number == nbb_cell_id) {\n                        if (nbb_cells[i].get_text() == nbb_unformatted_code) {\n                             nbb_cells[i].set_text(nbb_formatted_code);\n                        }\n                        break;\n                    }\n                }\n            }, 500);\n            ",
      "text/plain": [
       "<IPython.core.display.Javascript object>"
      ]
     },
     "metadata": {},
     "output_type": "display_data"
    }
   ],
   "source": [
    "validation_dataset = image_dataset_from_directory(\n",
    "    train_jpeg_dir,\n",
    "    validation_split=0.2,\n",
    "    subset=\"validation\",\n",
    "    seed=42,\n",
    "    batch_size=1000,\n",
    ")"
   ]
  },
  {
   "cell_type": "code",
   "execution_count": 25,
   "metadata": {},
   "outputs": [
    {
     "name": "stdout",
     "output_type": "stream",
     "text": [
      "Found 57458 files belonging to 1 classes.\n"
     ]
    },
    {
     "data": {
      "application/javascript": "\n            setTimeout(function() {\n                var nbb_cell_id = 25;\n                var nbb_unformatted_code = \"test_dataset = image_dataset_from_directory(\\n    test_jpeg_dir,\\n    label_mode=None,\\n    seed=42,\\n    batch_size=1000,\\n    shuffle=False,\\n)\";\n                var nbb_formatted_code = \"test_dataset = image_dataset_from_directory(\\n    test_jpeg_dir,\\n    label_mode=None,\\n    seed=42,\\n    batch_size=1000,\\n    shuffle=False,\\n)\";\n                var nbb_cells = Jupyter.notebook.get_cells();\n                for (var i = 0; i < nbb_cells.length; ++i) {\n                    if (nbb_cells[i].input_prompt_number == nbb_cell_id) {\n                        if (nbb_cells[i].get_text() == nbb_unformatted_code) {\n                             nbb_cells[i].set_text(nbb_formatted_code);\n                        }\n                        break;\n                    }\n                }\n            }, 500);\n            ",
      "text/plain": [
       "<IPython.core.display.Javascript object>"
      ]
     },
     "metadata": {},
     "output_type": "display_data"
    }
   ],
   "source": [
    "test_dataset = image_dataset_from_directory(\n",
    "    test_jpeg_dir,\n",
    "    label_mode=None,\n",
    "    seed=42,\n",
    "    batch_size=1000,\n",
    "    shuffle=False,\n",
    ")"
   ]
  },
  {
   "cell_type": "code",
   "execution_count": 26,
   "metadata": {},
   "outputs": [
    {
     "data": {
      "application/javascript": "\n            setTimeout(function() {\n                var nbb_cell_id = 26;\n                var nbb_unformatted_code = \"base_model = keras.applications.Xception(\\n    weights='imagenet', \\n    input_shape=(256, 256, 3),\\n    include_top=False\\n)\";\n                var nbb_formatted_code = \"base_model = keras.applications.Xception(\\n    weights=\\\"imagenet\\\", input_shape=(256, 256, 3), include_top=False\\n)\";\n                var nbb_cells = Jupyter.notebook.get_cells();\n                for (var i = 0; i < nbb_cells.length; ++i) {\n                    if (nbb_cells[i].input_prompt_number == nbb_cell_id) {\n                        if (nbb_cells[i].get_text() == nbb_unformatted_code) {\n                             nbb_cells[i].set_text(nbb_formatted_code);\n                        }\n                        break;\n                    }\n                }\n            }, 500);\n            ",
      "text/plain": [
       "<IPython.core.display.Javascript object>"
      ]
     },
     "metadata": {},
     "output_type": "display_data"
    }
   ],
   "source": [
    "base_model = keras.applications.Xception(\n",
    "    weights='imagenet', \n",
    "    input_shape=(256, 256, 3),\n",
    "    include_top=False\n",
    ")"
   ]
  },
  {
   "cell_type": "code",
   "execution_count": 27,
   "metadata": {},
   "outputs": [
    {
     "data": {
      "application/javascript": "\n            setTimeout(function() {\n                var nbb_cell_id = 27;\n                var nbb_unformatted_code = \"for layer in base_model.layers:\\n    layer.trainable = False\";\n                var nbb_formatted_code = \"for layer in base_model.layers:\\n    layer.trainable = False\";\n                var nbb_cells = Jupyter.notebook.get_cells();\n                for (var i = 0; i < nbb_cells.length; ++i) {\n                    if (nbb_cells[i].input_prompt_number == nbb_cell_id) {\n                        if (nbb_cells[i].get_text() == nbb_unformatted_code) {\n                             nbb_cells[i].set_text(nbb_formatted_code);\n                        }\n                        break;\n                    }\n                }\n            }, 500);\n            ",
      "text/plain": [
       "<IPython.core.display.Javascript object>"
      ]
     },
     "metadata": {},
     "output_type": "display_data"
    }
   ],
   "source": [
    "for layer in base_model.layers:\n",
    "    layer.trainable = False"
   ]
  },
  {
   "cell_type": "code",
   "execution_count": 28,
   "metadata": {},
   "outputs": [
    {
     "data": {
      "application/javascript": "\n            setTimeout(function() {\n                var nbb_cell_id = 28;\n                var nbb_unformatted_code = \"inputs = keras.layers.Input([256, 256, 3], dtype = tf.uint8)\\nx = tf.cast(inputs, tf.float32)\\nx = preprocess_input(x)\\nx = base_model(x,training=False)\\nx = keras.layers.GlobalAveragePooling2D()(x)\\noutputs = keras.layers.Dense(1,activation='sigmoid')(x)\\nmodel = keras.Model(inputs, outputs)\";\n                var nbb_formatted_code = \"inputs = keras.layers.Input([256, 256, 3], dtype=tf.uint8)\\nx = tf.cast(inputs, tf.float32)\\nx = preprocess_input(x)\\nx = base_model(x, training=False)\\nx = keras.layers.GlobalAveragePooling2D()(x)\\noutputs = keras.layers.Dense(1, activation=\\\"sigmoid\\\")(x)\\nmodel = keras.Model(inputs, outputs)\";\n                var nbb_cells = Jupyter.notebook.get_cells();\n                for (var i = 0; i < nbb_cells.length; ++i) {\n                    if (nbb_cells[i].input_prompt_number == nbb_cell_id) {\n                        if (nbb_cells[i].get_text() == nbb_unformatted_code) {\n                             nbb_cells[i].set_text(nbb_formatted_code);\n                        }\n                        break;\n                    }\n                }\n            }, 500);\n            ",
      "text/plain": [
       "<IPython.core.display.Javascript object>"
      ]
     },
     "metadata": {},
     "output_type": "display_data"
    }
   ],
   "source": [
    "inputs = keras.layers.Input([256, 256, 3], dtype = tf.uint8)\n",
    "x = tf.cast(inputs, tf.float32)\n",
    "x = preprocess_input(x)\n",
    "x = base_model(x,training=False)\n",
    "x = keras.layers.GlobalAveragePooling2D()(x)\n",
    "outputs = keras.layers.Dense(1,activation='sigmoid')(x)\n",
    "model = keras.Model(inputs, outputs)"
   ]
  },
  {
   "cell_type": "code",
   "execution_count": 29,
   "metadata": {},
   "outputs": [
    {
     "data": {
      "application/javascript": "\n            setTimeout(function() {\n                var nbb_cell_id = 29;\n                var nbb_unformatted_code = \"model.compile(\\n    optimizer=keras.optimizers.Adam(),\\n    loss=keras.losses.BinaryCrossentropy(),\\n    metrics=[keras.metrics.BinaryAccuracy()]\\n)\";\n                var nbb_formatted_code = \"model.compile(\\n    optimizer=keras.optimizers.Adam(),\\n    loss=keras.losses.BinaryCrossentropy(),\\n    metrics=[keras.metrics.BinaryAccuracy()],\\n)\";\n                var nbb_cells = Jupyter.notebook.get_cells();\n                for (var i = 0; i < nbb_cells.length; ++i) {\n                    if (nbb_cells[i].input_prompt_number == nbb_cell_id) {\n                        if (nbb_cells[i].get_text() == nbb_unformatted_code) {\n                             nbb_cells[i].set_text(nbb_formatted_code);\n                        }\n                        break;\n                    }\n                }\n            }, 500);\n            ",
      "text/plain": [
       "<IPython.core.display.Javascript object>"
      ]
     },
     "metadata": {},
     "output_type": "display_data"
    }
   ],
   "source": [
    "model.compile(\n",
    "    optimizer=keras.optimizers.Adam(),\n",
    "    loss=keras.losses.BinaryCrossentropy(),\n",
    "    metrics=[keras.metrics.BinaryAccuracy()]\n",
    ")"
   ]
  },
  {
   "cell_type": "code",
   "execution_count": 30,
   "metadata": {},
   "outputs": [
    {
     "name": "stdout",
     "output_type": "stream",
     "text": [
      "Model: \"model_1\"\n",
      "_________________________________________________________________\n",
      " Layer (type)                Output Shape              Param #   \n",
      "=================================================================\n",
      " input_4 (InputLayer)        [(None, 256, 256, 3)]     0         \n",
      "                                                                 \n",
      " tf.cast_1 (TFOpLambda)      (None, 256, 256, 3)       0         \n",
      "                                                                 \n",
      " tf.math.truediv_1 (TFOpLamb  (None, 256, 256, 3)      0         \n",
      " da)                                                             \n",
      "                                                                 \n",
      " tf.math.subtract_1 (TFOpLam  (None, 256, 256, 3)      0         \n",
      " bda)                                                            \n",
      "                                                                 \n",
      " xception (Functional)       (None, 8, 8, 2048)        20861480  \n",
      "                                                                 \n",
      " global_average_pooling2d_1   (None, 2048)             0         \n",
      " (GlobalAveragePooling2D)                                        \n",
      "                                                                 \n",
      " dense_1 (Dense)             (None, 1)                 2049      \n",
      "                                                                 \n",
      "=================================================================\n",
      "Total params: 20,863,529\n",
      "Trainable params: 2,049\n",
      "Non-trainable params: 20,861,480\n",
      "_________________________________________________________________\n"
     ]
    },
    {
     "data": {
      "application/javascript": "\n            setTimeout(function() {\n                var nbb_cell_id = 30;\n                var nbb_unformatted_code = \"model.summary()\";\n                var nbb_formatted_code = \"model.summary()\";\n                var nbb_cells = Jupyter.notebook.get_cells();\n                for (var i = 0; i < nbb_cells.length; ++i) {\n                    if (nbb_cells[i].input_prompt_number == nbb_cell_id) {\n                        if (nbb_cells[i].get_text() == nbb_unformatted_code) {\n                             nbb_cells[i].set_text(nbb_formatted_code);\n                        }\n                        break;\n                    }\n                }\n            }, 500);\n            ",
      "text/plain": [
       "<IPython.core.display.Javascript object>"
      ]
     },
     "metadata": {},
     "output_type": "display_data"
    }
   ],
   "source": [
    "model.summary()"
   ]
  },
  {
   "cell_type": "code",
   "execution_count": 31,
   "metadata": {},
   "outputs": [
    {
     "data": {
      "application/javascript": "\n            setTimeout(function() {\n                var nbb_cell_id = 31;\n                var nbb_unformatted_code = \"early_stopping = tf.keras.callbacks.EarlyStopping(monitor='val_loss', patience=5, restore_best_weights=True)\";\n                var nbb_formatted_code = \"early_stopping = tf.keras.callbacks.EarlyStopping(\\n    monitor=\\\"val_loss\\\", patience=5, restore_best_weights=True\\n)\";\n                var nbb_cells = Jupyter.notebook.get_cells();\n                for (var i = 0; i < nbb_cells.length; ++i) {\n                    if (nbb_cells[i].input_prompt_number == nbb_cell_id) {\n                        if (nbb_cells[i].get_text() == nbb_unformatted_code) {\n                             nbb_cells[i].set_text(nbb_formatted_code);\n                        }\n                        break;\n                    }\n                }\n            }, 500);\n            ",
      "text/plain": [
       "<IPython.core.display.Javascript object>"
      ]
     },
     "metadata": {},
     "output_type": "display_data"
    }
   ],
   "source": [
    "early_stopping = tf.keras.callbacks.EarlyStopping(monitor='val_loss', patience=5, restore_best_weights=True)"
   ]
  },
  {
   "cell_type": "code",
   "execution_count": 32,
   "metadata": {},
   "outputs": [
    {
     "name": "stdout",
     "output_type": "stream",
     "text": [
      "Epoch 1/50\n"
     ]
    },
    {
     "name": "stderr",
     "output_type": "stream",
     "text": [
      "2022-07-23 09:02:45.820856: I tensorflow/core/grappler/optimizers/custom_graph_optimizer_registry.cc:113] Plugin optimizer for device_type GPU is enabled.\n"
     ]
    },
    {
     "name": "stdout",
     "output_type": "stream",
     "text": [
      "177/177 [==============================] - ETA: 0s - loss: 0.5035 - binary_accuracy: 0.7539"
     ]
    },
    {
     "name": "stderr",
     "output_type": "stream",
     "text": [
      "2022-07-23 09:24:24.951923: I tensorflow/core/grappler/optimizers/custom_graph_optimizer_registry.cc:113] Plugin optimizer for device_type GPU is enabled.\n"
     ]
    },
    {
     "name": "stdout",
     "output_type": "stream",
     "text": [
      "177/177 [==============================] - 1626s 9s/step - loss: 0.5035 - binary_accuracy: 0.7539 - val_loss: 0.4519 - val_binary_accuracy: 0.7861\n",
      "Epoch 2/50\n",
      "177/177 [==============================] - 1634s 9s/step - loss: 0.4399 - binary_accuracy: 0.7947 - val_loss: 0.4334 - val_binary_accuracy: 0.7965\n",
      "Epoch 3/50\n",
      "177/177 [==============================] - 1641s 9s/step - loss: 0.4252 - binary_accuracy: 0.8044 - val_loss: 0.4254 - val_binary_accuracy: 0.8019\n",
      "Epoch 4/50\n",
      "177/177 [==============================] - 1641s 9s/step - loss: 0.4175 - binary_accuracy: 0.8087 - val_loss: 0.4170 - val_binary_accuracy: 0.8096\n",
      "Epoch 5/50\n",
      "177/177 [==============================] - 1646s 9s/step - loss: 0.4140 - binary_accuracy: 0.8097 - val_loss: 0.4138 - val_binary_accuracy: 0.8110\n",
      "Epoch 6/50\n",
      "177/177 [==============================] - 1641s 9s/step - loss: 0.4086 - binary_accuracy: 0.8136 - val_loss: 0.4120 - val_binary_accuracy: 0.8124\n",
      "Epoch 7/50\n",
      "177/177 [==============================] - 1631s 9s/step - loss: 0.4069 - binary_accuracy: 0.8139 - val_loss: 0.4080 - val_binary_accuracy: 0.8148\n",
      "Epoch 8/50\n",
      "177/177 [==============================] - 1636s 9s/step - loss: 0.4045 - binary_accuracy: 0.8163 - val_loss: 0.4072 - val_binary_accuracy: 0.8140\n",
      "Epoch 9/50\n",
      "177/177 [==============================] - 1651s 9s/step - loss: 0.4017 - binary_accuracy: 0.8184 - val_loss: 0.4051 - val_binary_accuracy: 0.8155\n",
      "Epoch 10/50\n",
      " 20/177 [==>...........................] - ETA: 19:36 - loss: 0.4029 - binary_accuracy: 0.8136"
     ]
    },
    {
     "ename": "KeyboardInterrupt",
     "evalue": "",
     "output_type": "error",
     "traceback": [
      "\u001b[0;31m---------------------------------------------------------------------------\u001b[0m",
      "\u001b[0;31mKeyboardInterrupt\u001b[0m                         Traceback (most recent call last)",
      "\u001b[1;32m/Users/juanazuero/Documents/DS/Intro_to_dl_projects/cancer_detection/notebooks/cancer_detection.ipynb Cell 18\u001b[0m in \u001b[0;36m<cell line: 1>\u001b[0;34m()\u001b[0m\n\u001b[0;32m----> <a href='vscode-notebook-cell:/Users/juanazuero/Documents/DS/Intro_to_dl_projects/cancer_detection/notebooks/cancer_detection.ipynb#ch0000008?line=0'>1</a>\u001b[0m fit_history \u001b[39m=\u001b[39m model\u001b[39m.\u001b[39;49mfit(train_dataset, epochs\u001b[39m=\u001b[39;49m\u001b[39m50\u001b[39;49m, validation_data\u001b[39m=\u001b[39;49mvalidation_dataset, callbacks\u001b[39m=\u001b[39;49m[early_stopping])\n",
      "File \u001b[0;32m/opt/homebrew/Caskroom/miniforge/base/envs/cancer_detection/lib/python3.10/site-packages/keras/utils/traceback_utils.py:64\u001b[0m, in \u001b[0;36mfilter_traceback.<locals>.error_handler\u001b[0;34m(*args, **kwargs)\u001b[0m\n\u001b[1;32m     62\u001b[0m filtered_tb \u001b[39m=\u001b[39m \u001b[39mNone\u001b[39;00m\n\u001b[1;32m     63\u001b[0m \u001b[39mtry\u001b[39;00m:\n\u001b[0;32m---> 64\u001b[0m   \u001b[39mreturn\u001b[39;00m fn(\u001b[39m*\u001b[39;49margs, \u001b[39m*\u001b[39;49m\u001b[39m*\u001b[39;49mkwargs)\n\u001b[1;32m     65\u001b[0m \u001b[39mexcept\u001b[39;00m \u001b[39mException\u001b[39;00m \u001b[39mas\u001b[39;00m e:  \u001b[39m# pylint: disable=broad-except\u001b[39;00m\n\u001b[1;32m     66\u001b[0m   filtered_tb \u001b[39m=\u001b[39m _process_traceback_frames(e\u001b[39m.\u001b[39m__traceback__)\n",
      "File \u001b[0;32m/opt/homebrew/Caskroom/miniforge/base/envs/cancer_detection/lib/python3.10/site-packages/keras/engine/training.py:1409\u001b[0m, in \u001b[0;36mModel.fit\u001b[0;34m(self, x, y, batch_size, epochs, verbose, callbacks, validation_split, validation_data, shuffle, class_weight, sample_weight, initial_epoch, steps_per_epoch, validation_steps, validation_batch_size, validation_freq, max_queue_size, workers, use_multiprocessing)\u001b[0m\n\u001b[1;32m   1402\u001b[0m \u001b[39mwith\u001b[39;00m tf\u001b[39m.\u001b[39mprofiler\u001b[39m.\u001b[39mexperimental\u001b[39m.\u001b[39mTrace(\n\u001b[1;32m   1403\u001b[0m     \u001b[39m'\u001b[39m\u001b[39mtrain\u001b[39m\u001b[39m'\u001b[39m,\n\u001b[1;32m   1404\u001b[0m     epoch_num\u001b[39m=\u001b[39mepoch,\n\u001b[1;32m   1405\u001b[0m     step_num\u001b[39m=\u001b[39mstep,\n\u001b[1;32m   1406\u001b[0m     batch_size\u001b[39m=\u001b[39mbatch_size,\n\u001b[1;32m   1407\u001b[0m     _r\u001b[39m=\u001b[39m\u001b[39m1\u001b[39m):\n\u001b[1;32m   1408\u001b[0m   callbacks\u001b[39m.\u001b[39mon_train_batch_begin(step)\n\u001b[0;32m-> 1409\u001b[0m   tmp_logs \u001b[39m=\u001b[39m \u001b[39mself\u001b[39;49m\u001b[39m.\u001b[39;49mtrain_function(iterator)\n\u001b[1;32m   1410\u001b[0m   \u001b[39mif\u001b[39;00m data_handler\u001b[39m.\u001b[39mshould_sync:\n\u001b[1;32m   1411\u001b[0m     context\u001b[39m.\u001b[39masync_wait()\n",
      "File \u001b[0;32m/opt/homebrew/Caskroom/miniforge/base/envs/cancer_detection/lib/python3.10/site-packages/tensorflow/python/util/traceback_utils.py:150\u001b[0m, in \u001b[0;36mfilter_traceback.<locals>.error_handler\u001b[0;34m(*args, **kwargs)\u001b[0m\n\u001b[1;32m    148\u001b[0m filtered_tb \u001b[39m=\u001b[39m \u001b[39mNone\u001b[39;00m\n\u001b[1;32m    149\u001b[0m \u001b[39mtry\u001b[39;00m:\n\u001b[0;32m--> 150\u001b[0m   \u001b[39mreturn\u001b[39;00m fn(\u001b[39m*\u001b[39;49margs, \u001b[39m*\u001b[39;49m\u001b[39m*\u001b[39;49mkwargs)\n\u001b[1;32m    151\u001b[0m \u001b[39mexcept\u001b[39;00m \u001b[39mException\u001b[39;00m \u001b[39mas\u001b[39;00m e:\n\u001b[1;32m    152\u001b[0m   filtered_tb \u001b[39m=\u001b[39m _process_traceback_frames(e\u001b[39m.\u001b[39m__traceback__)\n",
      "File \u001b[0;32m/opt/homebrew/Caskroom/miniforge/base/envs/cancer_detection/lib/python3.10/site-packages/tensorflow/python/eager/def_function.py:915\u001b[0m, in \u001b[0;36mFunction.__call__\u001b[0;34m(self, *args, **kwds)\u001b[0m\n\u001b[1;32m    912\u001b[0m compiler \u001b[39m=\u001b[39m \u001b[39m\"\u001b[39m\u001b[39mxla\u001b[39m\u001b[39m\"\u001b[39m \u001b[39mif\u001b[39;00m \u001b[39mself\u001b[39m\u001b[39m.\u001b[39m_jit_compile \u001b[39melse\u001b[39;00m \u001b[39m\"\u001b[39m\u001b[39mnonXla\u001b[39m\u001b[39m\"\u001b[39m\n\u001b[1;32m    914\u001b[0m \u001b[39mwith\u001b[39;00m OptionalXlaContext(\u001b[39mself\u001b[39m\u001b[39m.\u001b[39m_jit_compile):\n\u001b[0;32m--> 915\u001b[0m   result \u001b[39m=\u001b[39m \u001b[39mself\u001b[39;49m\u001b[39m.\u001b[39;49m_call(\u001b[39m*\u001b[39;49margs, \u001b[39m*\u001b[39;49m\u001b[39m*\u001b[39;49mkwds)\n\u001b[1;32m    917\u001b[0m new_tracing_count \u001b[39m=\u001b[39m \u001b[39mself\u001b[39m\u001b[39m.\u001b[39mexperimental_get_tracing_count()\n\u001b[1;32m    918\u001b[0m without_tracing \u001b[39m=\u001b[39m (tracing_count \u001b[39m==\u001b[39m new_tracing_count)\n",
      "File \u001b[0;32m/opt/homebrew/Caskroom/miniforge/base/envs/cancer_detection/lib/python3.10/site-packages/tensorflow/python/eager/def_function.py:947\u001b[0m, in \u001b[0;36mFunction._call\u001b[0;34m(self, *args, **kwds)\u001b[0m\n\u001b[1;32m    944\u001b[0m   \u001b[39mself\u001b[39m\u001b[39m.\u001b[39m_lock\u001b[39m.\u001b[39mrelease()\n\u001b[1;32m    945\u001b[0m   \u001b[39m# In this case we have created variables on the first call, so we run the\u001b[39;00m\n\u001b[1;32m    946\u001b[0m   \u001b[39m# defunned version which is guaranteed to never create variables.\u001b[39;00m\n\u001b[0;32m--> 947\u001b[0m   \u001b[39mreturn\u001b[39;00m \u001b[39mself\u001b[39;49m\u001b[39m.\u001b[39;49m_stateless_fn(\u001b[39m*\u001b[39;49margs, \u001b[39m*\u001b[39;49m\u001b[39m*\u001b[39;49mkwds)  \u001b[39m# pylint: disable=not-callable\u001b[39;00m\n\u001b[1;32m    948\u001b[0m \u001b[39melif\u001b[39;00m \u001b[39mself\u001b[39m\u001b[39m.\u001b[39m_stateful_fn \u001b[39mis\u001b[39;00m \u001b[39mnot\u001b[39;00m \u001b[39mNone\u001b[39;00m:\n\u001b[1;32m    949\u001b[0m   \u001b[39m# Release the lock early so that multiple threads can perform the call\u001b[39;00m\n\u001b[1;32m    950\u001b[0m   \u001b[39m# in parallel.\u001b[39;00m\n\u001b[1;32m    951\u001b[0m   \u001b[39mself\u001b[39m\u001b[39m.\u001b[39m_lock\u001b[39m.\u001b[39mrelease()\n",
      "File \u001b[0;32m/opt/homebrew/Caskroom/miniforge/base/envs/cancer_detection/lib/python3.10/site-packages/tensorflow/python/eager/function.py:2453\u001b[0m, in \u001b[0;36mFunction.__call__\u001b[0;34m(self, *args, **kwargs)\u001b[0m\n\u001b[1;32m   2450\u001b[0m \u001b[39mwith\u001b[39;00m \u001b[39mself\u001b[39m\u001b[39m.\u001b[39m_lock:\n\u001b[1;32m   2451\u001b[0m   (graph_function,\n\u001b[1;32m   2452\u001b[0m    filtered_flat_args) \u001b[39m=\u001b[39m \u001b[39mself\u001b[39m\u001b[39m.\u001b[39m_maybe_define_function(args, kwargs)\n\u001b[0;32m-> 2453\u001b[0m \u001b[39mreturn\u001b[39;00m graph_function\u001b[39m.\u001b[39;49m_call_flat(\n\u001b[1;32m   2454\u001b[0m     filtered_flat_args, captured_inputs\u001b[39m=\u001b[39;49mgraph_function\u001b[39m.\u001b[39;49mcaptured_inputs)\n",
      "File \u001b[0;32m/opt/homebrew/Caskroom/miniforge/base/envs/cancer_detection/lib/python3.10/site-packages/tensorflow/python/eager/function.py:1860\u001b[0m, in \u001b[0;36mConcreteFunction._call_flat\u001b[0;34m(self, args, captured_inputs, cancellation_manager)\u001b[0m\n\u001b[1;32m   1856\u001b[0m possible_gradient_type \u001b[39m=\u001b[39m gradients_util\u001b[39m.\u001b[39mPossibleTapeGradientTypes(args)\n\u001b[1;32m   1857\u001b[0m \u001b[39mif\u001b[39;00m (possible_gradient_type \u001b[39m==\u001b[39m gradients_util\u001b[39m.\u001b[39mPOSSIBLE_GRADIENT_TYPES_NONE\n\u001b[1;32m   1858\u001b[0m     \u001b[39mand\u001b[39;00m executing_eagerly):\n\u001b[1;32m   1859\u001b[0m   \u001b[39m# No tape is watching; skip to running the function.\u001b[39;00m\n\u001b[0;32m-> 1860\u001b[0m   \u001b[39mreturn\u001b[39;00m \u001b[39mself\u001b[39m\u001b[39m.\u001b[39m_build_call_outputs(\u001b[39mself\u001b[39;49m\u001b[39m.\u001b[39;49m_inference_function\u001b[39m.\u001b[39;49mcall(\n\u001b[1;32m   1861\u001b[0m       ctx, args, cancellation_manager\u001b[39m=\u001b[39;49mcancellation_manager))\n\u001b[1;32m   1862\u001b[0m forward_backward \u001b[39m=\u001b[39m \u001b[39mself\u001b[39m\u001b[39m.\u001b[39m_select_forward_and_backward_functions(\n\u001b[1;32m   1863\u001b[0m     args,\n\u001b[1;32m   1864\u001b[0m     possible_gradient_type,\n\u001b[1;32m   1865\u001b[0m     executing_eagerly)\n\u001b[1;32m   1866\u001b[0m forward_function, args_with_tangents \u001b[39m=\u001b[39m forward_backward\u001b[39m.\u001b[39mforward()\n",
      "File \u001b[0;32m/opt/homebrew/Caskroom/miniforge/base/envs/cancer_detection/lib/python3.10/site-packages/tensorflow/python/eager/function.py:497\u001b[0m, in \u001b[0;36m_EagerDefinedFunction.call\u001b[0;34m(self, ctx, args, cancellation_manager)\u001b[0m\n\u001b[1;32m    495\u001b[0m \u001b[39mwith\u001b[39;00m _InterpolateFunctionError(\u001b[39mself\u001b[39m):\n\u001b[1;32m    496\u001b[0m   \u001b[39mif\u001b[39;00m cancellation_manager \u001b[39mis\u001b[39;00m \u001b[39mNone\u001b[39;00m:\n\u001b[0;32m--> 497\u001b[0m     outputs \u001b[39m=\u001b[39m execute\u001b[39m.\u001b[39;49mexecute(\n\u001b[1;32m    498\u001b[0m         \u001b[39mstr\u001b[39;49m(\u001b[39mself\u001b[39;49m\u001b[39m.\u001b[39;49msignature\u001b[39m.\u001b[39;49mname),\n\u001b[1;32m    499\u001b[0m         num_outputs\u001b[39m=\u001b[39;49m\u001b[39mself\u001b[39;49m\u001b[39m.\u001b[39;49m_num_outputs,\n\u001b[1;32m    500\u001b[0m         inputs\u001b[39m=\u001b[39;49margs,\n\u001b[1;32m    501\u001b[0m         attrs\u001b[39m=\u001b[39;49mattrs,\n\u001b[1;32m    502\u001b[0m         ctx\u001b[39m=\u001b[39;49mctx)\n\u001b[1;32m    503\u001b[0m   \u001b[39melse\u001b[39;00m:\n\u001b[1;32m    504\u001b[0m     outputs \u001b[39m=\u001b[39m execute\u001b[39m.\u001b[39mexecute_with_cancellation(\n\u001b[1;32m    505\u001b[0m         \u001b[39mstr\u001b[39m(\u001b[39mself\u001b[39m\u001b[39m.\u001b[39msignature\u001b[39m.\u001b[39mname),\n\u001b[1;32m    506\u001b[0m         num_outputs\u001b[39m=\u001b[39m\u001b[39mself\u001b[39m\u001b[39m.\u001b[39m_num_outputs,\n\u001b[0;32m   (...)\u001b[0m\n\u001b[1;32m    509\u001b[0m         ctx\u001b[39m=\u001b[39mctx,\n\u001b[1;32m    510\u001b[0m         cancellation_manager\u001b[39m=\u001b[39mcancellation_manager)\n",
      "File \u001b[0;32m/opt/homebrew/Caskroom/miniforge/base/envs/cancer_detection/lib/python3.10/site-packages/tensorflow/python/eager/execute.py:54\u001b[0m, in \u001b[0;36mquick_execute\u001b[0;34m(op_name, num_outputs, inputs, attrs, ctx, name)\u001b[0m\n\u001b[1;32m     52\u001b[0m \u001b[39mtry\u001b[39;00m:\n\u001b[1;32m     53\u001b[0m   ctx\u001b[39m.\u001b[39mensure_initialized()\n\u001b[0;32m---> 54\u001b[0m   tensors \u001b[39m=\u001b[39m pywrap_tfe\u001b[39m.\u001b[39;49mTFE_Py_Execute(ctx\u001b[39m.\u001b[39;49m_handle, device_name, op_name,\n\u001b[1;32m     55\u001b[0m                                       inputs, attrs, num_outputs)\n\u001b[1;32m     56\u001b[0m \u001b[39mexcept\u001b[39;00m core\u001b[39m.\u001b[39m_NotOkStatusException \u001b[39mas\u001b[39;00m e:\n\u001b[1;32m     57\u001b[0m   \u001b[39mif\u001b[39;00m name \u001b[39mis\u001b[39;00m \u001b[39mnot\u001b[39;00m \u001b[39mNone\u001b[39;00m:\n",
      "\u001b[0;31mKeyboardInterrupt\u001b[0m: "
     ]
    },
    {
     "data": {
      "application/javascript": "\n            setTimeout(function() {\n                var nbb_cell_id = 32;\n                var nbb_unformatted_code = \"fit_history = model.fit(train_dataset, epochs=50, validation_data=validation_dataset, callbacks=[early_stopping])\";\n                var nbb_formatted_code = \"fit_history = model.fit(\\n    train_dataset,\\n    epochs=50,\\n    validation_data=validation_dataset,\\n    callbacks=[early_stopping],\\n)\";\n                var nbb_cells = Jupyter.notebook.get_cells();\n                for (var i = 0; i < nbb_cells.length; ++i) {\n                    if (nbb_cells[i].input_prompt_number == nbb_cell_id) {\n                        if (nbb_cells[i].get_text() == nbb_unformatted_code) {\n                             nbb_cells[i].set_text(nbb_formatted_code);\n                        }\n                        break;\n                    }\n                }\n            }, 500);\n            ",
      "text/plain": [
       "<IPython.core.display.Javascript object>"
      ]
     },
     "metadata": {},
     "output_type": "display_data"
    }
   ],
   "source": [
    "fit_history = model.fit(train_dataset, epochs=50, validation_data=validation_dataset, callbacks=[early_stopping])"
   ]
  },
  {
   "cell_type": "code",
   "execution_count": null,
   "metadata": {},
   "outputs": [
    {
     "name": "stderr",
     "output_type": "stream",
     "text": [
      "WARNING:absl:Found untraced functions such as _jit_compiled_convolution_op, _jit_compiled_convolution_op, _jit_compiled_convolution_op, _jit_compiled_convolution_op, _jit_compiled_convolution_op while saving (showing 5 of 40). These functions will not be directly callable after loading.\n"
     ]
    },
    {
     "name": "stdout",
     "output_type": "stream",
     "text": [
      "INFO:tensorflow:Assets written to: ../data/model_cancer_detection/assets\n"
     ]
    },
    {
     "name": "stderr",
     "output_type": "stream",
     "text": [
      "INFO:tensorflow:Assets written to: ../data/model_cancer_detection/assets\n"
     ]
    },
    {
     "data": {
      "application/javascript": "\n            setTimeout(function() {\n                var nbb_cell_id = 139;\n                var nbb_unformatted_code = \"model.save('../data/model_cancer_detection')\";\n                var nbb_formatted_code = \"model.save(\\\"../data/model_cancer_detection\\\")\";\n                var nbb_cells = Jupyter.notebook.get_cells();\n                for (var i = 0; i < nbb_cells.length; ++i) {\n                    if (nbb_cells[i].input_prompt_number == nbb_cell_id) {\n                        if (nbb_cells[i].get_text() == nbb_unformatted_code) {\n                             nbb_cells[i].set_text(nbb_formatted_code);\n                        }\n                        break;\n                    }\n                }\n            }, 500);\n            ",
      "text/plain": [
       "<IPython.core.display.Javascript object>"
      ]
     },
     "metadata": {},
     "output_type": "display_data"
    }
   ],
   "source": [
    "model.save('../data/model_cancer_detection_2')"
   ]
  },
  {
   "cell_type": "code",
   "execution_count": 109,
   "metadata": {},
   "outputs": [
    {
     "data": {
      "application/javascript": "\n            setTimeout(function() {\n                var nbb_cell_id = 109;\n                var nbb_unformatted_code = \"#test_predict = model.predict(test_dataset)\\nresults_test = pd.DataFrame(\\n    columns = ['id','label'],\\n    data = zip([x.split('/')[3].split('.')[0] for x in test_dataset.file_paths],test_predict.reshape(-1))\\n)\\nresults_test['label'] = results_test['label'].apply(lambda x: int(x>0.5))\";\n                var nbb_formatted_code = \"# test_predict = model.predict(test_dataset)\\nresults_test = pd.DataFrame(\\n    columns=[\\\"id\\\", \\\"label\\\"],\\n    data=zip(\\n        [x.split(\\\"/\\\")[3].split(\\\".\\\")[0] for x in test_dataset.file_paths],\\n        test_predict.reshape(-1),\\n    ),\\n)\\nresults_test[\\\"label\\\"] = results_test[\\\"label\\\"].apply(lambda x: int(x > 0.5))\";\n                var nbb_cells = Jupyter.notebook.get_cells();\n                for (var i = 0; i < nbb_cells.length; ++i) {\n                    if (nbb_cells[i].input_prompt_number == nbb_cell_id) {\n                        if (nbb_cells[i].get_text() == nbb_unformatted_code) {\n                             nbb_cells[i].set_text(nbb_formatted_code);\n                        }\n                        break;\n                    }\n                }\n            }, 500);\n            ",
      "text/plain": [
       "<IPython.core.display.Javascript object>"
      ]
     },
     "metadata": {},
     "output_type": "display_data"
    }
   ],
   "source": [
    "test_predict = model.predict(test_dataset)\n",
    "results_test = pd.DataFrame(\n",
    "    columns = ['id','label'],\n",
    "    data = zip([x.split('/')[3].split('.')[0] for x in test_dataset.file_paths],test_predict.reshape(-1))\n",
    ")\n",
    "results_test['label'] = results_test['label'].apply(lambda x: int(x>0.5))"
   ]
  },
  {
   "cell_type": "code",
   "execution_count": 123,
   "metadata": {},
   "outputs": [
    {
     "name": "stdout",
     "output_type": "stream",
     "text": [
      "32/32 [==============================] - 5s 173ms/step\n",
      "32/32 [==============================] - 5s 172ms/step\n",
      "32/32 [==============================] - 5s 172ms/step\n",
      "32/32 [==============================] - 5s 171ms/step\n",
      "32/32 [==============================] - 5s 171ms/step\n",
      "32/32 [==============================] - 5s 171ms/step\n",
      "32/32 [==============================] - 5s 171ms/step\n",
      "32/32 [==============================] - 5s 171ms/step\n",
      "32/32 [==============================] - 5s 171ms/step\n",
      "32/32 [==============================] - 5s 172ms/step\n",
      "32/32 [==============================] - 5s 171ms/step\n",
      "32/32 [==============================] - 5s 171ms/step\n",
      "32/32 [==============================] - 5s 171ms/step\n",
      "32/32 [==============================] - 5s 171ms/step\n",
      "32/32 [==============================] - 5s 171ms/step\n",
      "32/32 [==============================] - 5s 171ms/step\n",
      "32/32 [==============================] - 5s 171ms/step\n",
      "32/32 [==============================] - 5s 171ms/step\n",
      "32/32 [==============================] - 5s 171ms/step\n",
      "32/32 [==============================] - 5s 171ms/step\n",
      "32/32 [==============================] - 6s 176ms/step\n",
      "32/32 [==============================] - 5s 171ms/step\n",
      "32/32 [==============================] - 5s 171ms/step\n",
      "32/32 [==============================] - 5s 171ms/step\n",
      "32/32 [==============================] - 5s 171ms/step\n",
      "32/32 [==============================] - 5s 172ms/step\n",
      "32/32 [==============================] - 6s 170ms/step\n",
      "32/32 [==============================] - 5s 171ms/step\n",
      "32/32 [==============================] - 5s 171ms/step\n",
      "32/32 [==============================] - 5s 171ms/step\n",
      "32/32 [==============================] - 5s 171ms/step\n",
      "32/32 [==============================] - 5s 171ms/step\n",
      "32/32 [==============================] - 5s 172ms/step\n",
      "32/32 [==============================] - 5s 171ms/step\n",
      "32/32 [==============================] - 5s 171ms/step\n",
      "32/32 [==============================] - 5s 171ms/step\n",
      "32/32 [==============================] - 5s 171ms/step\n",
      "32/32 [==============================] - 5s 171ms/step\n",
      "32/32 [==============================] - 6s 176ms/step\n",
      "32/32 [==============================] - 5s 170ms/step\n",
      "32/32 [==============================] - 5s 170ms/step\n",
      "32/32 [==============================] - 5s 171ms/step\n",
      "32/32 [==============================] - 5s 171ms/step\n",
      "32/32 [==============================] - 5s 170ms/step\n",
      "1/1 [==============================] - 0s 165ms/step\n"
     ]
    },
    {
     "data": {
      "application/javascript": "\n            setTimeout(function() {\n                var nbb_cell_id = 123;\n                var nbb_unformatted_code = \"probas = np.array([])\\nlabels =  np.array([])\\nfor x, y in validation_dataset:\\n    probas = np.concatenate([probas, model.predict(x).reshape(-1)])\\n    labels = np.concatenate([labels, y])\";\n                var nbb_formatted_code = \"probas = np.array([])\\nlabels = np.array([])\\nfor x, y in validation_dataset:\\n    probas = np.concatenate([probas, model.predict(x).reshape(-1)])\\n    labels = np.concatenate([labels, y])\";\n                var nbb_cells = Jupyter.notebook.get_cells();\n                for (var i = 0; i < nbb_cells.length; ++i) {\n                    if (nbb_cells[i].input_prompt_number == nbb_cell_id) {\n                        if (nbb_cells[i].get_text() == nbb_unformatted_code) {\n                             nbb_cells[i].set_text(nbb_formatted_code);\n                        }\n                        break;\n                    }\n                }\n            }, 500);\n            ",
      "text/plain": [
       "<IPython.core.display.Javascript object>"
      ]
     },
     "metadata": {},
     "output_type": "display_data"
    }
   ],
   "source": [
    "probas = np.array([])\n",
    "labels =  np.array([])\n",
    "for x, y in validation_dataset:\n",
    "    probas = np.concatenate([probas, model.predict(x, verbose=False).reshape(-1)])\n",
    "    labels = np.concatenate([labels, y])"
   ]
  },
  {
   "cell_type": "code",
   "execution_count": 124,
   "metadata": {},
   "outputs": [
    {
     "data": {
      "application/javascript": "\n            setTimeout(function() {\n                var nbb_cell_id = 124;\n                var nbb_unformatted_code = \"results_validation = pd.DataFrame(\\n    columns = ['proba','labels'],\\n    data = zip(probas,labels)\\n)\\nresults_validation['prediction'] = results_validation['proba'].apply(lambda x: int(x>0.5))\";\n                var nbb_formatted_code = \"results_validation = pd.DataFrame(columns=[\\\"proba\\\", \\\"labels\\\"], data=zip(probas, labels))\\nresults_validation[\\\"prediction\\\"] = results_validation[\\\"proba\\\"].apply(\\n    lambda x: int(x > 0.5)\\n)\";\n                var nbb_cells = Jupyter.notebook.get_cells();\n                for (var i = 0; i < nbb_cells.length; ++i) {\n                    if (nbb_cells[i].input_prompt_number == nbb_cell_id) {\n                        if (nbb_cells[i].get_text() == nbb_unformatted_code) {\n                             nbb_cells[i].set_text(nbb_formatted_code);\n                        }\n                        break;\n                    }\n                }\n            }, 500);\n            ",
      "text/plain": [
       "<IPython.core.display.Javascript object>"
      ]
     },
     "metadata": {},
     "output_type": "display_data"
    }
   ],
   "source": [
    "results_validation = pd.DataFrame(\n",
    "    columns = ['proba','label'],\n",
    "    data = zip(probas,labels)\n",
    ")\n",
    "results_validation['prediction'] = results_validation['proba'].apply(lambda x: int(x>0.5))"
   ]
  },
  {
   "cell_type": "code",
   "execution_count": 111,
   "metadata": {},
   "outputs": [
    {
     "name": "stdout",
     "output_type": "stream",
     "text": [
      "45/45 [==============================] - 318s 7s/step\n"
     ]
    },
    {
     "data": {
      "application/javascript": "\n            setTimeout(function() {\n                var nbb_cell_id = 111;\n                var nbb_unformatted_code = \"validation_predict = model.predict(validation_dataset)\\nresults_validation = pd.DataFrame(\\n    columns = ['id','proba'],\\n    data = zip([x.split('/')[4].split('.')[0] for x in validation_dataset.file_paths],validation_predict.reshape(-1))\\n)\\nresults_validation['prediction'] = results_validation['proba'].apply(lambda x: int(x>0.5))\";\n                var nbb_formatted_code = \"validation_predict = model.predict(validation_dataset)\\nresults_validation = pd.DataFrame(\\n    columns=[\\\"id\\\", \\\"proba\\\"],\\n    data=zip(\\n        [x.split(\\\"/\\\")[4].split(\\\".\\\")[0] for x in validation_dataset.file_paths],\\n        validation_predict.reshape(-1),\\n    ),\\n)\\nresults_validation[\\\"prediction\\\"] = results_validation[\\\"proba\\\"].apply(\\n    lambda x: int(x > 0.5)\\n)\";\n                var nbb_cells = Jupyter.notebook.get_cells();\n                for (var i = 0; i < nbb_cells.length; ++i) {\n                    if (nbb_cells[i].input_prompt_number == nbb_cell_id) {\n                        if (nbb_cells[i].get_text() == nbb_unformatted_code) {\n                             nbb_cells[i].set_text(nbb_formatted_code);\n                        }\n                        break;\n                    }\n                }\n            }, 500);\n            ",
      "text/plain": [
       "<IPython.core.display.Javascript object>"
      ]
     },
     "metadata": {},
     "output_type": "display_data"
    }
   ],
   "source": [
    "#validation_predict = model.predict(validation_dataset)\n",
    "#results_validation = pd.DataFrame(\n",
    "#    columns = ['id','proba'],\n",
    "#    data = zip([x.split('/')[4].split('.')[0] for x in validation_dataset.file_paths],validation_predict.reshape(-1))\n",
    "#)\n",
    "#results_validation['prediction'] = results_validation['proba'].apply(lambda x: int(x>0.5))"
   ]
  },
  {
   "cell_type": "code",
   "execution_count": 128,
   "metadata": {},
   "outputs": [
    {
     "data": {
      "text/plain": [
       "<sklearn.metrics._plot.roc_curve.RocCurveDisplay at 0x386bea500>"
      ]
     },
     "execution_count": 128,
     "metadata": {},
     "output_type": "execute_result"
    },
    {
     "data": {
      "image/png": "[encoded data removed]",
      "text/plain": [
       "<Figure size 432x288 with 1 Axes>"
      ]
     },
     "metadata": {
      "needs_background": "light"
     },
     "output_type": "display_data"
    },
    {
     "data": {
      "application/javascript": "\n            setTimeout(function() {\n                var nbb_cell_id = 128;\n                var nbb_unformatted_code = \"RocCurveDisplay.from_predictions(\\n    results_validation['label'],\\n    results_validation['proba'],\\n    label=f\\\"Validation ROC AUC:{round(roc_auc_score(results_validation['label'], results_validation['proba']),3)}\\\",\\n)\";\n                var nbb_formatted_code = \"RocCurveDisplay.from_predictions(\\n    results_validation[\\\"label\\\"],\\n    results_validation[\\\"proba\\\"],\\n    label=f\\\"Validation ROC AUC:{round(roc_auc_score(results_validation['label'], results_validation['proba']),3)}\\\",\\n)\";\n                var nbb_cells = Jupyter.notebook.get_cells();\n                for (var i = 0; i < nbb_cells.length; ++i) {\n                    if (nbb_cells[i].input_prompt_number == nbb_cell_id) {\n                        if (nbb_cells[i].get_text() == nbb_unformatted_code) {\n                             nbb_cells[i].set_text(nbb_formatted_code);\n                        }\n                        break;\n                    }\n                }\n            }, 500);\n            ",
      "text/plain": [
       "<IPython.core.display.Javascript object>"
      ]
     },
     "metadata": {},
     "output_type": "display_data"
    }
   ],
   "source": [
    "RocCurveDisplay.from_predictions(\n",
    "    results_validation['label'],\n",
    "    results_validation['proba'],\n",
    "    label=f\"Validation ROC AUC:{round(roc_auc_score(results_validation['label'], results_validation['proba']),3)}\",\n",
    ")"
   ]
  },
  {
   "cell_type": "code",
   "execution_count": 136,
   "metadata": {},
   "outputs": [
    {
     "data": {
      "text/plain": [
       "<sklearn.metrics._plot.confusion_matrix.ConfusionMatrixDisplay at 0x319c5be80>"
      ]
     },
     "execution_count": 136,
     "metadata": {},
     "output_type": "execute_result"
    },
    {
     "data": {
      "image/png": "[encoded data removed]",
      "text/plain": [
       "<Figure size 432x288 with 2 Axes>"
      ]
     },
     "metadata": {
      "needs_background": "light"
     },
     "output_type": "display_data"
    },
    {
     "data": {
      "application/javascript": "\n            setTimeout(function() {\n                var nbb_cell_id = 136;\n                var nbb_unformatted_code = \"ConfusionMatrixDisplay.from_predictions(\\n    results_validation['label'],\\n    results_validation['prediction']\\n)\";\n                var nbb_formatted_code = \"ConfusionMatrixDisplay.from_predictions(\\n    results_validation[\\\"label\\\"], results_validation[\\\"prediction\\\"]\\n)\";\n                var nbb_cells = Jupyter.notebook.get_cells();\n                for (var i = 0; i < nbb_cells.length; ++i) {\n                    if (nbb_cells[i].input_prompt_number == nbb_cell_id) {\n                        if (nbb_cells[i].get_text() == nbb_unformatted_code) {\n                             nbb_cells[i].set_text(nbb_formatted_code);\n                        }\n                        break;\n                    }\n                }\n            }, 500);\n            ",
      "text/plain": [
       "<IPython.core.display.Javascript object>"
      ]
     },
     "metadata": {},
     "output_type": "display_data"
    }
   ],
   "source": [
    "ConfusionMatrixDisplay.from_predictions(\n",
    "    results_validation['label'],\n",
    "    results_validation['prediction']\n",
    ")"
   ]
  },
  {
   "cell_type": "code",
   "execution_count": null,
   "metadata": {},
   "outputs": [],
   "source": []
  }
 ],
 "metadata": {
  "kernelspec": {
   "display_name": "Python 3.10.5 ('cancer_detection')",
   "language": "python",
   "name": "python3"
  },
  "language_info": {
   "codemirror_mode": {
    "name": "ipython",
    "version": 3
   },
   "file_extension": ".py",
   "mimetype": "text/x-python",
   "name": "python",
   "nbconvert_exporter": "python",
   "pygments_lexer": "ipython3",
   "version": "3.10.5"
  },
  "orig_nbformat": 4,
  "vscode": {
   "interpreter": {
    "hash": "138ae26e80c9ccb7aacfb8e35c42d018b303ddfef90f699f1f95aaa1ca7c6499"
   }
  }
 },
 "nbformat": 4,
 "nbformat_minor": 2
}
